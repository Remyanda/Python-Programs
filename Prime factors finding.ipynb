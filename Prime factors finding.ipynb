{
 "cells": [
  {
   "cell_type": "code",
   "execution_count": 2,
   "metadata": {},
   "outputs": [
    {
     "name": "stdout",
     "output_type": "stream",
     "text": [
      "{15: [3, 5], 20: [2, 2, 5], 25: [5, 5]}\n"
     ]
    }
   ],
   "source": [
    "def prime_factors(n):\n",
    "    #Initialize i\n",
    "    i = 2\n",
    "    #Initialize the array to store the factors\n",
    "    factors = []\n",
    "    while i * i <= n:\n",
    "        if n % i:\n",
    "            i += 1\n",
    "        else:\n",
    "            n //= i\n",
    "            factors.append(i)\n",
    "    if n > 1:\n",
    "        factors.append(n)\n",
    "    return factors\n",
    "\n",
    "def find_prime_factors_in_array(arr):\n",
    "    #Initialize the dictionary to hold factors of each number in the list\n",
    "    factors_dictn = {}\n",
    "    for number in arr:\n",
    "        factors_dictn[number] = prime_factors(number)\n",
    "    return factors_dictn\n",
    "\n",
    "# Example\n",
    "numbers = [15, 20, 25]\n",
    "prime_factors_dict = find_prime_factors_in_array(numbers)\n",
    "print(prime_factors_dict)\n"
   ]
  },
  {
   "cell_type": "code",
   "execution_count": null,
   "metadata": {},
   "outputs": [],
   "source": []
  }
 ],
 "metadata": {
  "kernelspec": {
   "display_name": "Python 3",
   "language": "python",
   "name": "python3"
  },
  "language_info": {
   "codemirror_mode": {
    "name": "ipython",
    "version": 3
   },
   "file_extension": ".py",
   "mimetype": "text/x-python",
   "name": "python",
   "nbconvert_exporter": "python",
   "pygments_lexer": "ipython3",
   "version": "3.7.4"
  }
 },
 "nbformat": 4,
 "nbformat_minor": 2
}
