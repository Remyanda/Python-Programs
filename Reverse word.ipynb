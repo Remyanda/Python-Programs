{
 "cells": [
  {
   "cell_type": "code",
   "execution_count": 2,
   "metadata": {},
   "outputs": [
    {
     "name": "stdout",
     "output_type": "stream",
     "text": [
      "olleH world\n"
     ]
    }
   ],
   "source": [
    "def reverse_inside_parentheses(input_str):\n",
    "    stack = []\n",
    "    result = \"\"\n",
    "    for char in input_str:\n",
    "        if char == '(':\n",
    "            stack.append(result)\n",
    "            result = \"\"\n",
    "        elif char == ')':\n",
    "            current_text = result\n",
    "            result = stack.pop() + current_text[::-1]\n",
    "        else:\n",
    "            result += char\n",
    "    return result\n",
    "# Example\n",
    "input_string = \"(Hello) world\"\n",
    "print(reverse_inside_parentheses(input_str_1))  "
   ]
  },
  {
   "cell_type": "code",
   "execution_count": null,
   "metadata": {},
   "outputs": [],
   "source": []
  }
 ],
 "metadata": {
  "kernelspec": {
   "display_name": "Python 3",
   "language": "python",
   "name": "python3"
  },
  "language_info": {
   "codemirror_mode": {
    "name": "ipython",
    "version": 3
   },
   "file_extension": ".py",
   "mimetype": "text/x-python",
   "name": "python",
   "nbconvert_exporter": "python",
   "pygments_lexer": "ipython3",
   "version": "3.7.4"
  }
 },
 "nbformat": 4,
 "nbformat_minor": 2
}
