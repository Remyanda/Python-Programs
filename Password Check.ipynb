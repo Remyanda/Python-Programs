{
 "cells": [
  {
   "cell_type": "code",
   "execution_count": 9,
   "metadata": {},
   "outputs": [
    {
     "name": "stdout",
     "output_type": "stream",
     "text": [
      "Password:  - Strength: Weak - Message: Password must be between 6 and 20 characters long.\n",
      "Password: Abcdefg1 - Strength: Strong - Message: Strong password!\n",
      "Password: abcdefg1 - Strength: Weak - Message: Password must contain at least one uppercase letter.\n",
      "Password: ABCDEFG1 - Strength: Weak - Message: Password must contain at least one lowercase letter.\n",
      "Password: Abcdefg1@ - Strength: Strong - Message: Strong password!\n"
     ]
    }
   ],
   "source": [
    "import re\n",
    "\n",
    "def is_strong_password(password):\n",
    "    # Length check\n",
    "    if len(password) < 6 or len(password) > 20:\n",
    "        return False, \"Password must be between 6 and 20 characters long.\"\n",
    "\n",
    "    # Character type checks\n",
    "    if not re.search(\"[a-z]\", password):\n",
    "        return False, \"Password must contain at least one lowercase letter.\"\n",
    "    if not re.search(\"[A-Z]\", password):\n",
    "        return False, \"Password must contain at least one uppercase letter.\"\n",
    "    if not re.search(\"[0-9]\", password):\n",
    "        return False, \"Password must contain at least one digit.\"\n",
    "\n",
    "    # Check for repeating characters:\n",
    "    if re.search(r\"(.)\\1\\1\", password):\n",
    "        return False, \"Password should not contain any three repeating characters in a row.\"\n",
    "    \n",
    "    # If all checks pass\n",
    "    return True, \"Strong password!\"\n",
    "# Test cases\n",
    "passwords = [\"\", \"Abcdefg1\", \"abcdefg1\", \"ABCDEFG1\", \"Abcdefg1@\"]\n",
    "for password in passwords:\n",
    "    strength, message = is_strong_password(password)\n",
    "    print(f\"Password: {password} - Strength: {'Strong' if strength else 'Weak'} - Message: {message}\")"
   ]
  },
  {
   "cell_type": "code",
   "execution_count": null,
   "metadata": {},
   "outputs": [],
   "source": []
  }
 ],
 "metadata": {
  "kernelspec": {
   "display_name": "Python 3",
   "language": "python",
   "name": "python3"
  },
  "language_info": {
   "codemirror_mode": {
    "name": "ipython",
    "version": 3
   },
   "file_extension": ".py",
   "mimetype": "text/x-python",
   "name": "python",
   "nbconvert_exporter": "python",
   "pygments_lexer": "ipython3",
   "version": "3.7.4"
  }
 },
 "nbformat": 4,
 "nbformat_minor": 2
}
