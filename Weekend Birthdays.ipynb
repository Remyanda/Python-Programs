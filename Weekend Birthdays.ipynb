{
 "cells": [
  {
   "cell_type": "code",
   "execution_count": 2,
   "metadata": {},
   "outputs": [
    {
     "name": "stdout",
     "output_type": "stream",
     "text": [
      "Alice's weekend birthdays:\n",
      "1993-05-15\n",
      "1994-05-15\n",
      "1999-05-15\n",
      "2004-05-15\n",
      "2005-05-15\n",
      "2010-05-15\n",
      "2011-05-15\n",
      "2016-05-15\n",
      "2021-05-15\n",
      "2022-05-15\n"
     ]
    }
   ],
   "source": [
    "#find the weekend birthdays of a person with the date of birth given\n",
    "from datetime import datetime, timedelta\n",
    "\n",
    "def weekend_birthdays(name, dob):\n",
    "    # Convert the date of birth string to a datetime object\n",
    "    dob_date = datetime.strptime(dob, \"%Y-%m-%d\")\n",
    "\n",
    "    # Initialize an empty list to store weekend birthdays\n",
    "    weekend_birthdays_list = []\n",
    "\n",
    "    # Iterate over a range of years (adjust the range as needed)\n",
    "    for year in range(dob_date.year, datetime.now().year + 1):\n",
    "        current_birthday = datetime(year, dob_date.month, dob_date.day)\n",
    "\n",
    "        # Check if the birthday falls on a Saturday or Sunday (weekend)\n",
    "        if current_birthday.weekday() in [5, 6]:  # Saturday is 5, Sunday is 6\n",
    "            weekend_birthdays_list.append(current_birthday)\n",
    "\n",
    "    return weekend_birthdays_list\n",
    "# Example usage:\n",
    "friend_name = \"Alice\"\n",
    "friend_dob = \"1990-05-15\"\n",
    "\n",
    "weekend_birthdays_result = weekend_birthdays(friend_name, friend_dob)\n",
    "\n",
    "print(f\"{friend_name}'s weekend birthdays:\")\n",
    "for birthday in weekend_birthdays_result:\n",
    "    print(birthday.strftime(\"%Y-%m-%d\"))"
   ]
  },
  {
   "cell_type": "code",
   "execution_count": null,
   "metadata": {},
   "outputs": [],
   "source": []
  }
 ],
 "metadata": {
  "kernelspec": {
   "display_name": "Python 3",
   "language": "python",
   "name": "python3"
  },
  "language_info": {
   "codemirror_mode": {
    "name": "ipython",
    "version": 3
   },
   "file_extension": ".py",
   "mimetype": "text/x-python",
   "name": "python",
   "nbconvert_exporter": "python",
   "pygments_lexer": "ipython3",
   "version": "3.7.4"
  }
 },
 "nbformat": 4,
 "nbformat_minor": 2
}
